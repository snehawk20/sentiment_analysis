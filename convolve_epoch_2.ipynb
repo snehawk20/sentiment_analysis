{
  "cells": [
    {
      "cell_type": "code",
      "execution_count": 11,
      "metadata": {
        "colab": {
          "base_uri": "https://localhost:8080/"
        },
        "id": "nTMtJtcbfWSF",
        "outputId": "20f580c5-e989-4f36-81bc-f2df8cbdfb8d"
      },
      "outputs": [
        {
          "output_type": "stream",
          "name": "stdout",
          "text": [
            "Drive already mounted at /content/drive; to attempt to forcibly remount, call drive.mount(\"/content/drive\", force_remount=True).\n"
          ]
        }
      ],
      "source": [
        "from google.colab import drive\n",
        "drive.mount('/content/drive')"
      ]
    },
    {
      "cell_type": "code",
      "execution_count": 24,
      "metadata": {
        "id": "ix7yIrAKngMP",
        "outputId": "438dc443-00a4-4179-a618-f046d5014099",
        "colab": {
          "base_uri": "https://localhost:8080/"
        }
      },
      "outputs": [
        {
          "output_type": "stream",
          "name": "stderr",
          "text": [
            "[nltk_data] Downloading package punkt to /root/nltk_data...\n",
            "[nltk_data]   Package punkt is already up-to-date!\n",
            "[nltk_data] Downloading package wordnet to /root/nltk_data...\n",
            "[nltk_data]   Package wordnet is already up-to-date!\n"
          ]
        }
      ],
      "source": [
        "import numpy as np\n",
        "import pandas as pd\n",
        "import string\n",
        "import random\n",
        "\n",
        "import nltk\n",
        "from nltk.stem.wordnet import WordNetLemmatizer\n",
        "nltk.download('punkt')\n",
        "nltk.download('wordnet')\n",
        "from nltk.corpus import stopwords\n",
        "\n",
        "import keras\n",
        "from keras.preprocessing.text import one_hot, Tokenizer\n",
        "from keras_preprocessing.sequence import pad_sequences\n",
        "from keras.models import Sequential\n",
        "from keras.layers.core import Activation, Dropout, Dense\n",
        "from keras.layers import Flatten, GlobalMaxPooling1D, Embedding, Conv1D, LSTM, Dense, SpatialDropout1D\n",
        "from keras.utils.np_utils import to_categorical\n",
        "\n",
        "from sklearn.model_selection import train_test_split\n",
        "from sklearn.feature_extraction.text import CountVectorizer\n",
        "\n",
        "import matplotlib.pyplot as plt\n",
        "\n",
        "import tensorflow as tf\n",
        "import re\n",
        "\n",
        "from textattack.augmentation import WordNetAugmenter"
      ]
    },
    {
      "cell_type": "markdown",
      "source": [
        "# Reading Dataset"
      ],
      "metadata": {
        "id": "8rrWDT2CqYT9"
      }
    },
    {
      "cell_type": "code",
      "execution_count": 25,
      "metadata": {
        "colab": {
          "base_uri": "https://localhost:8080/",
          "height": 206
        },
        "id": "WiItqOtRfWSI",
        "outputId": "98050d9d-390e-4a53-84e5-ce5a04ff5499"
      },
      "outputs": [
        {
          "output_type": "execute_result",
          "data": {
            "text/plain": [
              "  Product            Job Role             Verbatim Feedback   \\\n",
              "0        IX               XYZ  There is no  maintenance menu   \n",
              "1        IX         Architect                    Very buggy.   \n",
              "2        IX               PQR      High quality -  standards   \n",
              "3        IX  Sales Specialist               Features missing   \n",
              "4        IX         Architect    how to do the inter-working   \n",
              "\n",
              "   Sentiment (1=Positive & 0= Negative)  \n",
              "0                                     0  \n",
              "1                                     0  \n",
              "2                                     1  \n",
              "3                                     0  \n",
              "4                                     0  "
            ],
            "text/html": [
              "\n",
              "  <div id=\"df-43da9ca1-9cfa-4fd4-8dd8-d8498d14a79a\">\n",
              "    <div class=\"colab-df-container\">\n",
              "      <div>\n",
              "<style scoped>\n",
              "    .dataframe tbody tr th:only-of-type {\n",
              "        vertical-align: middle;\n",
              "    }\n",
              "\n",
              "    .dataframe tbody tr th {\n",
              "        vertical-align: top;\n",
              "    }\n",
              "\n",
              "    .dataframe thead th {\n",
              "        text-align: right;\n",
              "    }\n",
              "</style>\n",
              "<table border=\"1\" class=\"dataframe\">\n",
              "  <thead>\n",
              "    <tr style=\"text-align: right;\">\n",
              "      <th></th>\n",
              "      <th>Product</th>\n",
              "      <th>Job Role</th>\n",
              "      <th>Verbatim Feedback</th>\n",
              "      <th>Sentiment (1=Positive &amp; 0= Negative)</th>\n",
              "    </tr>\n",
              "  </thead>\n",
              "  <tbody>\n",
              "    <tr>\n",
              "      <th>0</th>\n",
              "      <td>IX</td>\n",
              "      <td>XYZ</td>\n",
              "      <td>There is no  maintenance menu</td>\n",
              "      <td>0</td>\n",
              "    </tr>\n",
              "    <tr>\n",
              "      <th>1</th>\n",
              "      <td>IX</td>\n",
              "      <td>Architect</td>\n",
              "      <td>Very buggy.</td>\n",
              "      <td>0</td>\n",
              "    </tr>\n",
              "    <tr>\n",
              "      <th>2</th>\n",
              "      <td>IX</td>\n",
              "      <td>PQR</td>\n",
              "      <td>High quality -  standards</td>\n",
              "      <td>1</td>\n",
              "    </tr>\n",
              "    <tr>\n",
              "      <th>3</th>\n",
              "      <td>IX</td>\n",
              "      <td>Sales Specialist</td>\n",
              "      <td>Features missing</td>\n",
              "      <td>0</td>\n",
              "    </tr>\n",
              "    <tr>\n",
              "      <th>4</th>\n",
              "      <td>IX</td>\n",
              "      <td>Architect</td>\n",
              "      <td>how to do the inter-working</td>\n",
              "      <td>0</td>\n",
              "    </tr>\n",
              "  </tbody>\n",
              "</table>\n",
              "</div>\n",
              "      <button class=\"colab-df-convert\" onclick=\"convertToInteractive('df-43da9ca1-9cfa-4fd4-8dd8-d8498d14a79a')\"\n",
              "              title=\"Convert this dataframe to an interactive table.\"\n",
              "              style=\"display:none;\">\n",
              "        \n",
              "  <svg xmlns=\"http://www.w3.org/2000/svg\" height=\"24px\"viewBox=\"0 0 24 24\"\n",
              "       width=\"24px\">\n",
              "    <path d=\"M0 0h24v24H0V0z\" fill=\"none\"/>\n",
              "    <path d=\"M18.56 5.44l.94 2.06.94-2.06 2.06-.94-2.06-.94-.94-2.06-.94 2.06-2.06.94zm-11 1L8.5 8.5l.94-2.06 2.06-.94-2.06-.94L8.5 2.5l-.94 2.06-2.06.94zm10 10l.94 2.06.94-2.06 2.06-.94-2.06-.94-.94-2.06-.94 2.06-2.06.94z\"/><path d=\"M17.41 7.96l-1.37-1.37c-.4-.4-.92-.59-1.43-.59-.52 0-1.04.2-1.43.59L10.3 9.45l-7.72 7.72c-.78.78-.78 2.05 0 2.83L4 21.41c.39.39.9.59 1.41.59.51 0 1.02-.2 1.41-.59l7.78-7.78 2.81-2.81c.8-.78.8-2.07 0-2.86zM5.41 20L4 18.59l7.72-7.72 1.47 1.35L5.41 20z\"/>\n",
              "  </svg>\n",
              "      </button>\n",
              "      \n",
              "  <style>\n",
              "    .colab-df-container {\n",
              "      display:flex;\n",
              "      flex-wrap:wrap;\n",
              "      gap: 12px;\n",
              "    }\n",
              "\n",
              "    .colab-df-convert {\n",
              "      background-color: #E8F0FE;\n",
              "      border: none;\n",
              "      border-radius: 50%;\n",
              "      cursor: pointer;\n",
              "      display: none;\n",
              "      fill: #1967D2;\n",
              "      height: 32px;\n",
              "      padding: 0 0 0 0;\n",
              "      width: 32px;\n",
              "    }\n",
              "\n",
              "    .colab-df-convert:hover {\n",
              "      background-color: #E2EBFA;\n",
              "      box-shadow: 0px 1px 2px rgba(60, 64, 67, 0.3), 0px 1px 3px 1px rgba(60, 64, 67, 0.15);\n",
              "      fill: #174EA6;\n",
              "    }\n",
              "\n",
              "    [theme=dark] .colab-df-convert {\n",
              "      background-color: #3B4455;\n",
              "      fill: #D2E3FC;\n",
              "    }\n",
              "\n",
              "    [theme=dark] .colab-df-convert:hover {\n",
              "      background-color: #434B5C;\n",
              "      box-shadow: 0px 1px 3px 1px rgba(0, 0, 0, 0.15);\n",
              "      filter: drop-shadow(0px 1px 2px rgba(0, 0, 0, 0.3));\n",
              "      fill: #FFFFFF;\n",
              "    }\n",
              "  </style>\n",
              "\n",
              "      <script>\n",
              "        const buttonEl =\n",
              "          document.querySelector('#df-43da9ca1-9cfa-4fd4-8dd8-d8498d14a79a button.colab-df-convert');\n",
              "        buttonEl.style.display =\n",
              "          google.colab.kernel.accessAllowed ? 'block' : 'none';\n",
              "\n",
              "        async function convertToInteractive(key) {\n",
              "          const element = document.querySelector('#df-43da9ca1-9cfa-4fd4-8dd8-d8498d14a79a');\n",
              "          const dataTable =\n",
              "            await google.colab.kernel.invokeFunction('convertToInteractive',\n",
              "                                                     [key], {});\n",
              "          if (!dataTable) return;\n",
              "\n",
              "          const docLinkHtml = 'Like what you see? Visit the ' +\n",
              "            '<a target=\"_blank\" href=https://colab.research.google.com/notebooks/data_table.ipynb>data table notebook</a>'\n",
              "            + ' to learn more about interactive tables.';\n",
              "          element.innerHTML = '';\n",
              "          dataTable['output_type'] = 'display_data';\n",
              "          await google.colab.output.renderOutput(dataTable, element);\n",
              "          const docLink = document.createElement('div');\n",
              "          docLink.innerHTML = docLinkHtml;\n",
              "          element.appendChild(docLink);\n",
              "        }\n",
              "      </script>\n",
              "    </div>\n",
              "  </div>\n",
              "  "
            ]
          },
          "metadata": {},
          "execution_count": 25
        }
      ],
      "source": [
        "df = pd.read_excel(\"data.xlsx\")\n",
        "df.head()"
      ]
    },
    {
      "cell_type": "code",
      "source": [
        "df.shape"
      ],
      "metadata": {
        "id": "c1fZy87fytda",
        "outputId": "64270377-f454-4afb-d95f-8554c5cd8dcd",
        "colab": {
          "base_uri": "https://localhost:8080/"
        }
      },
      "execution_count": 26,
      "outputs": [
        {
          "output_type": "execute_result",
          "data": {
            "text/plain": [
              "(387, 4)"
            ]
          },
          "metadata": {},
          "execution_count": 26
        }
      ]
    },
    {
      "cell_type": "code",
      "source": [
        "test = pd.read_excel(\"test.xlsx\")\n",
        "test.head()"
      ],
      "metadata": {
        "colab": {
          "base_uri": "https://localhost:8080/",
          "height": 206
        },
        "id": "vsaY0Vccp_Pd",
        "outputId": "c9580674-fd42-4478-e4d6-76d649776755"
      },
      "execution_count": 27,
      "outputs": [
        {
          "output_type": "execute_result",
          "data": {
            "text/plain": [
              "  Product            Job Role  \\\n",
              "0        DX        Operations   \n",
              "1        DX         Architect   \n",
              "2        DX  Sales Specialist   \n",
              "3        DX         Architect   \n",
              "4        DX  Sales Specialist   \n",
              "\n",
              "                                  Verbatim Feedback   \\\n",
              "0  software releases are always late. Customer-fa...   \n",
              "1                            documantation is wrong    \n",
              "2         Nice platform- well managed- not perfect-    \n",
              "3                                  lack of features    \n",
              "4                          Very good Support from BU   \n",
              "\n",
              "   Sentiment (1=Positive & 0= Negative)  \n",
              "0                                   NaN  \n",
              "1                                   NaN  \n",
              "2                                   NaN  \n",
              "3                                   NaN  \n",
              "4                                   NaN  "
            ],
            "text/html": [
              "\n",
              "  <div id=\"df-e0dbf93b-0a24-44d2-8c10-cfde4bb2c7eb\">\n",
              "    <div class=\"colab-df-container\">\n",
              "      <div>\n",
              "<style scoped>\n",
              "    .dataframe tbody tr th:only-of-type {\n",
              "        vertical-align: middle;\n",
              "    }\n",
              "\n",
              "    .dataframe tbody tr th {\n",
              "        vertical-align: top;\n",
              "    }\n",
              "\n",
              "    .dataframe thead th {\n",
              "        text-align: right;\n",
              "    }\n",
              "</style>\n",
              "<table border=\"1\" class=\"dataframe\">\n",
              "  <thead>\n",
              "    <tr style=\"text-align: right;\">\n",
              "      <th></th>\n",
              "      <th>Product</th>\n",
              "      <th>Job Role</th>\n",
              "      <th>Verbatim Feedback</th>\n",
              "      <th>Sentiment (1=Positive &amp; 0= Negative)</th>\n",
              "    </tr>\n",
              "  </thead>\n",
              "  <tbody>\n",
              "    <tr>\n",
              "      <th>0</th>\n",
              "      <td>DX</td>\n",
              "      <td>Operations</td>\n",
              "      <td>software releases are always late. Customer-fa...</td>\n",
              "      <td>NaN</td>\n",
              "    </tr>\n",
              "    <tr>\n",
              "      <th>1</th>\n",
              "      <td>DX</td>\n",
              "      <td>Architect</td>\n",
              "      <td>documantation is wrong</td>\n",
              "      <td>NaN</td>\n",
              "    </tr>\n",
              "    <tr>\n",
              "      <th>2</th>\n",
              "      <td>DX</td>\n",
              "      <td>Sales Specialist</td>\n",
              "      <td>Nice platform- well managed- not perfect-</td>\n",
              "      <td>NaN</td>\n",
              "    </tr>\n",
              "    <tr>\n",
              "      <th>3</th>\n",
              "      <td>DX</td>\n",
              "      <td>Architect</td>\n",
              "      <td>lack of features</td>\n",
              "      <td>NaN</td>\n",
              "    </tr>\n",
              "    <tr>\n",
              "      <th>4</th>\n",
              "      <td>DX</td>\n",
              "      <td>Sales Specialist</td>\n",
              "      <td>Very good Support from BU</td>\n",
              "      <td>NaN</td>\n",
              "    </tr>\n",
              "  </tbody>\n",
              "</table>\n",
              "</div>\n",
              "      <button class=\"colab-df-convert\" onclick=\"convertToInteractive('df-e0dbf93b-0a24-44d2-8c10-cfde4bb2c7eb')\"\n",
              "              title=\"Convert this dataframe to an interactive table.\"\n",
              "              style=\"display:none;\">\n",
              "        \n",
              "  <svg xmlns=\"http://www.w3.org/2000/svg\" height=\"24px\"viewBox=\"0 0 24 24\"\n",
              "       width=\"24px\">\n",
              "    <path d=\"M0 0h24v24H0V0z\" fill=\"none\"/>\n",
              "    <path d=\"M18.56 5.44l.94 2.06.94-2.06 2.06-.94-2.06-.94-.94-2.06-.94 2.06-2.06.94zm-11 1L8.5 8.5l.94-2.06 2.06-.94-2.06-.94L8.5 2.5l-.94 2.06-2.06.94zm10 10l.94 2.06.94-2.06 2.06-.94-2.06-.94-.94-2.06-.94 2.06-2.06.94z\"/><path d=\"M17.41 7.96l-1.37-1.37c-.4-.4-.92-.59-1.43-.59-.52 0-1.04.2-1.43.59L10.3 9.45l-7.72 7.72c-.78.78-.78 2.05 0 2.83L4 21.41c.39.39.9.59 1.41.59.51 0 1.02-.2 1.41-.59l7.78-7.78 2.81-2.81c.8-.78.8-2.07 0-2.86zM5.41 20L4 18.59l7.72-7.72 1.47 1.35L5.41 20z\"/>\n",
              "  </svg>\n",
              "      </button>\n",
              "      \n",
              "  <style>\n",
              "    .colab-df-container {\n",
              "      display:flex;\n",
              "      flex-wrap:wrap;\n",
              "      gap: 12px;\n",
              "    }\n",
              "\n",
              "    .colab-df-convert {\n",
              "      background-color: #E8F0FE;\n",
              "      border: none;\n",
              "      border-radius: 50%;\n",
              "      cursor: pointer;\n",
              "      display: none;\n",
              "      fill: #1967D2;\n",
              "      height: 32px;\n",
              "      padding: 0 0 0 0;\n",
              "      width: 32px;\n",
              "    }\n",
              "\n",
              "    .colab-df-convert:hover {\n",
              "      background-color: #E2EBFA;\n",
              "      box-shadow: 0px 1px 2px rgba(60, 64, 67, 0.3), 0px 1px 3px 1px rgba(60, 64, 67, 0.15);\n",
              "      fill: #174EA6;\n",
              "    }\n",
              "\n",
              "    [theme=dark] .colab-df-convert {\n",
              "      background-color: #3B4455;\n",
              "      fill: #D2E3FC;\n",
              "    }\n",
              "\n",
              "    [theme=dark] .colab-df-convert:hover {\n",
              "      background-color: #434B5C;\n",
              "      box-shadow: 0px 1px 3px 1px rgba(0, 0, 0, 0.15);\n",
              "      filter: drop-shadow(0px 1px 2px rgba(0, 0, 0, 0.3));\n",
              "      fill: #FFFFFF;\n",
              "    }\n",
              "  </style>\n",
              "\n",
              "      <script>\n",
              "        const buttonEl =\n",
              "          document.querySelector('#df-e0dbf93b-0a24-44d2-8c10-cfde4bb2c7eb button.colab-df-convert');\n",
              "        buttonEl.style.display =\n",
              "          google.colab.kernel.accessAllowed ? 'block' : 'none';\n",
              "\n",
              "        async function convertToInteractive(key) {\n",
              "          const element = document.querySelector('#df-e0dbf93b-0a24-44d2-8c10-cfde4bb2c7eb');\n",
              "          const dataTable =\n",
              "            await google.colab.kernel.invokeFunction('convertToInteractive',\n",
              "                                                     [key], {});\n",
              "          if (!dataTable) return;\n",
              "\n",
              "          const docLinkHtml = 'Like what you see? Visit the ' +\n",
              "            '<a target=\"_blank\" href=https://colab.research.google.com/notebooks/data_table.ipynb>data table notebook</a>'\n",
              "            + ' to learn more about interactive tables.';\n",
              "          element.innerHTML = '';\n",
              "          dataTable['output_type'] = 'display_data';\n",
              "          await google.colab.output.renderOutput(dataTable, element);\n",
              "          const docLink = document.createElement('div');\n",
              "          docLink.innerHTML = docLinkHtml;\n",
              "          element.appendChild(docLink);\n",
              "        }\n",
              "      </script>\n",
              "    </div>\n",
              "  </div>\n",
              "  "
            ]
          },
          "metadata": {},
          "execution_count": 27
        }
      ]
    },
    {
      "cell_type": "markdown",
      "source": [
        "# Data Augmentation"
      ],
      "metadata": {
        "id": "IVqfLbybx9jy"
      }
    },
    {
      "cell_type": "code",
      "source": [
        "def clean_text(text):\n",
        "    # lower text \n",
        "    text = text.lower()\n",
        "    #removing stop words\n",
        "    text = ' '.join([e_words for e_words in text.split(' ') if e_words not in stopwords.words('english')])\n",
        "    #removing square brackets\n",
        "    # text=re.sub('[.*?]', '', text)\n",
        "    # text=re.sub('+', '', text)\n",
        "    #removing hyperlink\n",
        "    # text= re.sub('https?://S+|www.S+', '', text)\n",
        "    #removing puncuation\n",
        "    text=re.sub('[%s]' % re.escape(string.punctuation), '', text)\n",
        "    text = re.sub('n' , '', text)\n",
        "    #remove words containing numbers\n",
        "    # text=re.sub('w*dw*' , '', text)\n",
        "    #tokenizer\n",
        "    text = nltk.word_tokenize(text)\n",
        "    #lemmatizer\n",
        "    wn = nltk.WordNetLemmatizer()\n",
        "    text = [wn.lemmatize(word) for word in text]\n",
        "    text = \" \".join(text)\n",
        "    return text\n",
        "\n",
        "#df[\"Verbatim Feedback \"]= df[\"Verbatim Feedback \"].apply(clean_text)\n",
        "#test[\"Verbatim Feedback \"]= test[\"Verbatim Feedback \"].apply(clean_text)"
      ],
      "metadata": {
        "id": "mud2yHlAz8Jv"
      },
      "execution_count": 75,
      "outputs": []
    },
    {
      "cell_type": "code",
      "source": [
        "def textattack_data_augment(data, target, texattack_augmenter):\n",
        "\n",
        "  aug_data = []\n",
        "\n",
        "  aug_label = []\n",
        "\n",
        "  for text, label in zip(data, target):\n",
        "\n",
        "    if random.randint(0,2) != 1:\n",
        "\n",
        "      aug_data.append(text)\n",
        "\n",
        "      aug_label.append(label)\n",
        "\n",
        "      continue\n",
        "\n",
        "    aug_list = texattack_augmenter.augment(text)\n",
        "    aug_data.append(text)\n",
        "\n",
        "    aug_label.append(label)\n",
        "\n",
        "\n",
        "\n",
        "\n",
        "    aug_data.extend(aug_list)\n",
        "\n",
        "    aug_label.extend([label]*len(aug_list))\n",
        "\n",
        "  return aug_data, aug_label"
      ],
      "metadata": {
        "id": "8xNmj-uxx8SK"
      },
      "execution_count": 76,
      "outputs": []
    },
    {
      "cell_type": "code",
      "source": [
        "word_aug = WordNetAugmenter(pct_words_to_swap=0.2, transformations_per_example=3)\n",
        "aug_data, aug_lable = textattack_data_augment(df[\"Verbatim Feedback \"].apply(clean_text), df[\"Sentiment (1=Positive & 0= Negative)\"], word_aug)\n",
        "print(aug_data, aug_lable)\n",
        "print(len(aug_data))"
      ],
      "metadata": {
        "id": "R73odKvE2dCM",
        "outputId": "28ca0742-5669-49fc-b81e-dd8dee28a09f",
        "colab": {
          "base_uri": "https://localhost:8080/"
        }
      },
      "execution_count": 77,
      "outputs": [
        {
          "output_type": "stream",
          "name": "stderr",
          "text": [
            "[nltk_data] Downloading package omw-1.4 to /root/nltk_data...\n",
            "[nltk_data]   Package omw-1.4 is already up-to-date!\n"
          ]
        },
        {
          "output_type": "stream",
          "name": "stdout",
          "text": [
            "['maiteace meu', 'buggy', 'high quality stadards', 'feature missig', 'have missig', 'lineament missig', 'sport missig', 'iterworkig', 'high price preaggregatio role', 'much deployed', 'overall throughput costraied', 'feel like product step child cocered goe shortly', 'feel like product step minor cocered goe shortly', 'feel like product step tyke cocered goe shortly', 'feel similar product step child cocered goe shortly', 'problem always costat', 'problem incessantly costat', 'problem invariably costat', 'trouble always costat', 'great upgrade', 'improve overall keep good work', 'issue observed', 'ogoig issue farfew issue reported far customer', 'may bug make difficult determie whether software hardware', 'lack documetatio usupported feature feature combiatios', 'parter maiteace meu', 'sw quality low cat meet customer expectatio', 'sw quality first cat meet customer expectatio', 'sw quality low cat receive customer expectatio', 'sw quality low-spirited cat meet customer expectatio', 'high quality stadards', 'high choice stadards', 'high prime stadards', 'high timbre stadards', 'missig feat support ewer router build', 'great feature adoptio product versatility', 'weakess cab requiremets', 'may miss aligmet code issue', 'may Miss aligmet code issue', 'may miss aligmet code upshot', 'may overleap aligmet code issue', 'waitig time security feature set', 'easy implemet', 'great product advatageous compared competitor however ecouterig performace issue throughput sometimes', 'may model similar term iterfaces', 'good product', 'good service', 'goig well still fidig feature eed icorporated', 'good product', 'missig feature', 'critical support grated', 'critical abide grated', 'critical back grated', 'vital support grated', 'quality documetatio costatly fallig behid', 'prize documetatio costatly fallig behid', 'timber documetatio costatly fallig behid', 'tone documetatio costatly fallig behid', 'good support', 'dear support', 'good abide', 'good bear', 'eed fix supply chai twelve moth lead time killig u', 'moderate service quality', 'low product quality', 'multiple techical hw issue', 'multiple timig system upgrade issue', 'slow icosistet', 'executive lead time', 'executive lead clip', 'executive lead meter', 'executive lead-in time', 'slow', 'product successful customerswhile sw quality improved eed cotiue idetify usecases test usecases', 'covolve oe trasitio', 'covolve oe trasitio', 'full spectrum positio frot customer', 'good', 'iformatio iterworkig', 'differet hw differet feature eve cli usually put documetatio', 'differet hw differet feature eve cli usually frame documetatio', 'differet hw differet feature eve cli usually lay documetatio', 'differet hw differet have eve cli usually put documetatio', 'excellet iovatio amazig product evolutio support differet use case', 'image certai customer gettig agry regular basis', 'effigy certai customer gettig agry regular basis', 'fancy certai customer gettig agry regular basis', 'ikon certai customer gettig agry regular basis', 'good delivery', 'documetatio eed improved', 'documetatio eed ameliorate', 'documetatio eed amend', 'documetatio eed better', 'reliable product', 'feelig like good box price poit', 'servicesfeatures rather slow', 'loadbalacig', 'loadbalacig', 'heard folk costly box limited feature set', 'scalable deal', 'improve overallkeep good work', 'provide parity compared xyz', 'lot bug', 'lot pester', 'lot tease', 'mess bug', 'customer gettig good result', 'silet reload issuessilet reload issue', 'silet reload issuessilet reload proceeds', 'silet reload issuessilet reload result', 'silet reload issuessilet reload topic', 'caot apply workaroud', 'excellet iovatio amazig product evolutio support differet use case', 'good', 'dear', 'respectable', 'unspoiled', 'may bug make difficult determie whether software hardwaret', 'may bug draw difficult determie whether software hardwaret', 'may bug produce difficult determie whether software hardwaret', 'may germ make difficult determie whether software hardwaret', 'software quality good may bug ustable geeral', 'software quality good whitethorn bug ustable geeral', 'software select good may bug ustable geeral', 'software tone good may bug ustable geeral', 'port issue', 'port issuing', 'port payoff', 'port release', 'hard explai behavior smart licesig', 'product worked well gettig result', 'lot bad issue', 'may test realetd failure', 'may examine realetd failure', 'may run realetd failure', 'whitethorn test realetd failure', 'workig fie', 'workig fie', 'better upgradedowgrade boot documetatio step step detail', 'lack documetatio usupported feature feature combiatios', 'workig customer', 'workig client', 'workig customer', 'goodgreat product', 'usecase varied', 'product awesome result', 'product awesome effect', 'product awesome outcome', 'product awesome upshot', 'delivery outcome', 'rescue outcome', 'saving outcome', 'speech outcome', 'iso parter maiteace meu', 'experiece problem issue', 'software quality issue', 'missig evolutio path', 'usage varied', 'executio well', 'executio advantageously', 'executio considerably', 'executio wellspring', 'ew feature back forth eve sigificat chages', 'ew feature rearwards forth eve sigificat chages', 'ew have back forth eve sigificat chages', 'ew sport back forth eve sigificat chages', 'weakess cab requiremets', 'fit requiremets price competitive', 'satisfied strog support', 'fulfil strog support', 'satisfied strog suffer', 'satisfied strog supporting', 'eed watch lot scalability deploymeteed documet scalability issue', 'eed watch lot scalability deploymeteed documet scalability effect', 'eed watch lot scalability deploymeteed documet scalability offspring', 'eed watch mint scalability deploymeteed documet scalability issue', 'scale limitatios comparig', 'story missig', 'customer gettig good result', 'miimum requiremets dialed', 'miimum requiremets dial', 'miimum requiremets dialed', 'best value moey', 'good catchup', 'effective catchup', 'just catchup', 'right catchup', 'good', 'practiced', 'salutary', 'serious', 'workig excellet', 'great product competitive commercially', 'bang-up product competitive commercially', 'bully product competitive commercially', 'gravid product competitive commercially', 'eed feature set', 'thigs like lack xyz challege sometimes', 'challege implemet', 'challege implemet', 'good ive also heard first customer parters', 'dear ive also heard first customer parters', 'expert ive also heard first customer parters', 'good ive also see first customer parters', 'documetatio clear itdifferet hw differet feature eve cli usually put documetatio', 'quality documetatio costatly fallig behid', 'character documetatio costatly fallig behid', 'prime documetatio costatly fallig behid', 'timbre documetatio costatly fallig behid', 'feel eed competitive price', 'executive lead time error documetatio misleadig resultig feature gap', 'executive head time error documetatio misleadig resultig feature gap', 'executive lead time error documetatio misleadig resultig have gap', 'executive lead time wrongdoing documetatio misleadig resultig feature gap', 'false positive compliace potetial software upgrade rejectio', 'lack several feature', 'eed close gap', 'buggy', 'batty', 'nuts', 'roadster', 'eed log close', 'issue timig', 'slow icosistet validatio', 'behind icosistet validatio', 'slack icosistet validatio', 'slacken icosistet validatio', 'roadmap cosistecy', 'roadmap cosistecy', 'scalig issuesissues scale', 'scalig issuesissues exfoliation', 'scalig issuesissues scurf', 'scalig issuesissues shell', 'put licese caot shared', 'cast licese caot shared', 'pose licese caot shared', 'put licese caot apportion', 'good', 'cosistet product', 'cosistet intersection', 'cosistet merchandise', 'cosistet production', 'excited ewer product', 'charge ewer product', 'excited ewer production', 'stir ewer product', 'steady platform', 'stable', 'price performaceflexible pricig structure', 'Price performaceflexible pricig structure', 'price performaceflexible pricig construction', 'terms performaceflexible pricig structure', 'thik overall product lie good pretty much box applicatio', 'thik overall merchandise lie good pretty much box applicatio', 'thik overall product lie good pretty lots box applicatio', 'thik overall product lie honorable pretty much box applicatio', 'hardware documets icomplete', 'best value moey', 'adept value moey', 'practiced value moey', 'skillful value moey', 'best value moey', 'excellet delivery', 'hardly tool help troubleshoot issue platform', 'hardly instrument help troubleshoot issue platform', 'hardly tool help troubleshoot payoff platform', 'hardly tool help troubleshoot supply platform', 'heard folk costly box limited feature set', 'scalable deal', 'owadays experiecig lot issue', 'good bug address', 'geerally good limited fuctioality', 'support always', 'accompaniment always', 'hold always', 'sustain always', 'harder troubleshoot', 'disadvatage', 'disadvatage', 'felt good', 'startig get acquaited seems like great additio portfolio', 'thik quality improved little little', 'good product past growig pais', 'still hit may bug become driver limitatio desig deploy', 'bug differet', 'pester differet', 'tap differet', 'tease differet', 'may bug make difficult determie whether software hardware', 'way way buggy would buy car eeds go shop every sigle week get fixed lack sw quality', 'hard get iformatio detail iformatioroot cause ukow', 'price competitive market preagg role', 'price competitive market preagg function', 'price competitive market preagg part', 'price competitive marketplace preagg role', 'low product quality', 'may trouble upgradig', 'may basic defect hw', 'may basic fault hw', 'may canonical defect hw', 'may introductory defect hw', 'although solves customer challeges provides solutio cost effective solutio', 'may bugstoo may bug', 'lack basic feature lot bug', 'lack basic feature flock bug', 'lack basic feature fortune bug', 'miss basic feature lot bug', 'foud hw issue could swthere lot doc would good cetralized', 'foud hw issue could swthere lot Commerce would safe cetralized', 'foud hw issue could swthere pot doc would dependable cetralized', 'foud hw number could swthere allot doc would good cetralized', 'fixed', 'eeds test box properly', 'eeds examine box properly', 'eeds test loge properly', 'eeds trial box properly', 'may glitch may bug low level', 'poor drop accoutig troubleshootig capability support pretty much guess work relyig box etwork provide missig clue', 'poor fall accoutig troubleshootig capability brook pretty much hazard work relyig box etwork provide missig clue', 'poor pearl accoutig troubleshootig capability defend pretty much guess oeuvre relyig box etwork provide missig clue', 'short drop accoutig troubleshootig capability back pretty much guess cultivate relyig box etwork provide missig clue', 'difficulty troubleshootig silet reload type issue', 'good product', 'respectable product', 'ripe product', 'well product', 'well executed', 'good product ehaced architecture product also eeds time become stable', 'thik still bug cosidered lack testig software hardware improve', 'dissatisfactio due lack debugability supportability icludig documetatio', 'dissatisfactio ascribable lack debugability supportability icludig documetatio', 'dissatisfactio due want debugability supportability icludig documetatio', 'dissatisfactio referable lack debugability supportability icludig documetatio', 'stable', 'requiremets multidimesioal scale greater service provider idividual customer', 'requiremets multidimesioal scale cracking service provider idividual customer', 'requiremets multidimesioal scale greater serve provider idividual customer', 'requiremets multidimesioal scale heavy service provider idividual customer', 'release delay', 'button delay', 'release retard', 'spill delay', 'edless problem', 'ofte complicated make properly work feature commo widespread', 'complicated work', 'may bug hidde specificatio restrictios', 'defective hardware', 'cost effective hardware well perceived customer', 'outcome highly see', 'result orieted', 'improvemet', 'eed improvemet', 'eed improvemet', 'high price poit compared competitio', 'itegratio required', 'missig feature', 'requires la port', 'slottig rule cumbersometoo may rule', 'defied goal', 'defied end', 'defy goal', 'refuse goal', 'good proposal aggregatio', 'great feature address specific place etwork', 'maual feature outdated device upgrade issue eve addressed impact time deliverig costat smus address issue expected come software customer perceptio low meas extra work cocessios service team make work killer feature help stad well established product like asr9ktoo may smus feature already software base maybe way istall without reload forwardig egie router would improve situatio', 'maual feature outdated device upgrade offspring eventide addressed impingement time deliverig costat smus address issue wait semen software customer perceptio downcast meas extra lick cocessios service team draw ferment killer feature serve stad well established product like asr9ktoo may smus feature already software alkali maybe way istall without reload forwardig egie router would improve situatio', 'maual feature outdated device upgrade publish eve address wallop time deliverig costat smus address issue expected come package client perceptio low meas extra wreak cocessios service team urinate work killer feature help stad well established product same asr9ktoo may smus feature already package ground maybe way istall without reload forwardig egie router would meliorate situatio', 'maual have outdated device upgrade emergence eve addressed impact time deliverig costat smus address supply expected hail software customer perceptio humble meas supernumerary solve cocessios service team work ferment killer feature assistant stad well established product like asr9ktoo may smus feature already software base mayhap way istall without reload forwardig egie router would improve situatio', 'may issue observedew product see much used customer', 'may issue observedew product experience much used customer', 'may issue observedew product visualize much used customer', 'may issuing observedew product see much used customer', 'isufficiet troubleshootig capability serviceability submit completely igoredisufficiet troubleshootig capability serviceability', 'isufficiet troubleshootig capability serviceability present all igoredisufficiet troubleshootig capability serviceability', 'isufficiet troubleshootig capability serviceability resign whole igoredisufficiet troubleshootig capability serviceability', 'isufficiet troubleshootig capability usability submit entirely igoredisufficiet troubleshootig capability serviceability', 'poor scalability', 'upgrade required', 'buggy', 'may bug', 'compared logic checkig paiful', 'customer cocered multidimesio scale', 'customer cocered multidimesio descale', 'customer cocered multidimesio plate', 'customer cocered multidimesio shell', 'outcome highly see', 'device usied migratio itegratio well defied', 'device usied migratio itegratio easily defied', 'device usied migratio itegratio well hold', 'twist usied migratio itegratio well defied', 'clear documets', 'better upgradedowgrade', 'just upgradedowgrade', 'substantially upgradedowgrade', 'wagerer upgradedowgrade', 'supportig feature idicated documetatio', 'problem implemetatio', 'may feature commad support makig difficult product troubleshoot', 'lack serviceability reliability', 'lack serviceability reliableness', 'lack usableness reliability', 'miss serviceability reliability', 'result orieted', 'look like may bug thoroughlyayway may problem quality usuitable', 'everythig work expected', 'first may issue platform also debugability feature troubleshoot issue', 'first may issue platform also debugability feature troubleshoot matter', 'first may issue platform also debugability feature troubleshoot number', 'first may subject platform also debugability feature troubleshoot issue', 'lack feature', 'deficiency feature', 'lack have', 'miss feature', 'scalable deal', 'scalable bargain', 'scalable hatful', 'scalable mickle', 'eed licesig model public sector utility customer', 'eed licesig posture public sector utility customer', 'eed licesig simulate public sector utility customer', 'eed licesig sit public sector utility customer', 'good support', 'ice platform scale eeds better explaied sold', 'ew feature developmet box takig log time released', 'ew feature developmet box takig log clock released', 'ew feature developmet box takig log sentence released', 'ew sport developmet box takig log time released', 'aother well positioed product', 'ice experiece', 'issue', 'issue far customer', 'emergence far customer', 'issue ALIR customer', 'issue far client', 'great service', 'recetly egieerig feature icluded', 'lack comuicatio commitmet', 'price effective', 'price effectual', 'price efficient', 'terms effective', 'excellet outcome', 'limitatio etwork', 'team member fatigue product', 'lack proper exteral documetatio silet reload issue', 'good formfactor good hadywork competitive', 'totally istable egiieerig quallity dropped lot', 'totally istable egiieerig quallity cast lot', 'totally istable egiieerig quallity dangle lot', 'totally istable egiieerig quallity fell lot', 'lack quality 66 70 aim far improved poit', 'lack prize 66 70 aim far improved poit', 'lack quality 66 70 aspire far improved poit', 'lack quality 66 70 purport far improved poit', 'platform wide deploy', 'look maual uclear whether feature supported', 'aspect maual uclear whether feature supported', 'attend maual uclear whether feature supported', 'seem maual uclear whether feature supported', 'yet tested live lab oksupport documetatio eeds effeciet', 'yet quiz live lab oksupport documetatio eeds effeciet', 'yet tested experience lab oksupport documetatio eeds effeciet', 'yet tested last lab oksupport documetatio eeds effeciet', 'world realiable product ever see', 'world realiable merchandise ever see', 'world realiable product ever control', 'world realiable product ever insure', 'may defect thik tested far kow seems worst quality product', 'may bug somethig quite critical series customer resulted hw replacemet', 'may badger somethig quite critical series customer lead hw replacemet', 'may bug somethig quite critical serial customer ensue hw replacemet', 'may wiretap somethig rather critical series customer resulted hw replacemet', 'moderate service quality', 'issue resource', 'buggy', 'bonkers', 'crackers', 'nuts', 'good feature set perfect pricig high', 'may bug', 'may beleaguer', 'may hemipteron', 'may wiretap', 'may issue', 'may outcome', 'may publish', 'may release', 'lot issue jumpig oe bug aother', 'deal issue jumpig oe bug aother', 'lot payoff jumpig oe bug aother', 'stack issue jumpig oe bug aother', 'lot missig feature', 'release delayed', 'software quality', 'may deviatios model', 'may deviatios mannequin', 'may deviatios mould', 'may deviatios simulation', 'silet reload issue', 'silet recharge issue', 'silet reload emergence', 'silet reload subject', 'delay feature potetially gettig customer expectatios', 'check feature potetially gettig customer expectatios', 'retard feature potetially gettig customer expectatios', 'stay feature potetially gettig customer expectatios', 'good product pricig best comparig', 'support', 'abide', 'hold', 'subscribe', 'hady box helpful developmet teamfeatures feature limitatios', 'hady box helpful developmet teamfeatures lineament limitatios', 'hady loge helpful developmet teamfeatures feature limitatios', 'hady package helpful developmet teamfeatures feature limitatios', 'product good competitio lot variats pricig level', 'product full competitio lot variats pricig level', 'product good competitio fortune variats pricig level', 'product unspoilt competitio lot variats pricig level', 'good quality', 'port allocatio met customer requiremets', 'interface allocatio met customer requiremets', 'port allocatio forgather customer requiremets', 'port allocatio play customer requiremets', 'cost effective hardware well perceived customer', 'commets', 'wiig deal hopefully performs well field', 'customer like box customer issue smart maagemetsmart licesig work well', 'work expected', 'ferment expected', 'operate expected', 'work expect', 'router model modular power supply', 'router model modular might supply', 'router model modular power furnish', 'router model modular power render', 'eed optic qualificatio syergy platform', 'far goodthere lot doc would good cetralized', 'Interahamwe goodthere lot doc would good cetralized', 'far goodthere destiny doc would good cetralized', 'far goodthere lot physician would good cetralized', 'eeds test box properly', 'eeds essay box properly', 'eeds exam box properly', 'eeds screen box properly', 'poor drop accoutig troubleshootig capability support pretty much', 'poor drop accoutig troubleshootig capability backup pretty much', 'poor drop accoutig troubleshootig capability hold pretty much', 'poor omit accoutig troubleshootig capability support pretty much', 'critical feature missig', 'improvemet eeded', 'lack official documetatio supported feature', 'lack functionary documetatio supported feature', 'lack official documetatio back feature', 'lack official documetatio stomach feature', 'quality eeds improved', 'good product supportive documets', 'commodity product supportive documets', 'good merchandise supportive documets', 'safe product supportive documets', 'liked service', 'thik still bug cosidered lack testig', 'frequet occurrece work due defective hardware', 'dissatisfactio due lack debugability supportability', 'dissatisfactio due deficiency debugability supportability', 'dissatisfactio due want debugability supportability', 'dissatisfactio referable lack debugability supportability', 'may defective product', 'issue buggy', 'documetatio issue', 'reliable', 'requiremets multidimesioal scale greater release', 'requiremets multidimesioal scale bully release', 'requiremets multidimesioal scale keen release', 'requiremets multidimesioal scale smashing release', 'oe customer come across problem', 'oe customer arrive across problem', 'oe customer derive across problem', 'oe customer number across problem', 'stable softwaretake much time istall software', 'stable softwaretake much clip istall software', 'stable softwaretake much meter istall software', 'unchanging softwaretake much time istall software', 'result see', 'problem chip rest perfect', 'problem chip breathe perfect', 'problem chip respite perfect', 'problem fleck rest perfect', 'may feature gap', 'may feature crack', 'may have gap', 'may sport gap', 'issue buggy', 'issue bonkers', 'issue loopy', 'outcome buggy', 'price poit', 'overall good experiecestill eeds high discouts competitive', 'overall good experiecestill eeds high discouts private-enterprise', 'overall skilful experiecestill eeds high discouts competitive', 'overall unspoiled experiecestill eeds high discouts competitive', 'wiig project', 'hit roadmap timelies', 'good work', 'istructor lack presetatio', 'silet reboots crash', 'great keep good work', 'great', 'work exactly expected', 'outcome great', 'excellet pricetag feature richesslack cosistet documetatio', 'excellet pricetag boast richesslack cosistet documetatio', 'excellet pricetag have richesslack cosistet documetatio', 'excellet pricetag sport richesslack cosistet documetatio', 'ew model feature parity established model', 'customer dissatisfied low customer experiece', 'due poor implemetatio chages require customer extra work', 'probably scaled versios box', 'eed cotiue drivig toward solutio', 'case impossible determie exactly may eeded day0', 'still complicated', 'clear documets', 'authorise documets', 'brighten documets', 'exculpated documets', 'customer ecoutered issue', 'ew project waitig big picture', 'may variats cofuse customer make difficult wi busiess competitorstoo may variats', 'excellet producta good product competig space etwork price setitive', 'excellet producta dependable product competig space etwork price setitive', 'excellet producta good product competig space etwork damage setitive', 'excellet producta respectable product competig space etwork price setitive', 'price effective', 'customer cocered verified product scale meet customer eeds', 'work well', 'act well', 'bring well', 'influence well', 'good documetatio', 'estimable documetatio', 'goodness documetatio', 'secure documetatio', 'good lead', 'full lead', 'good lede', 'good steer', 'scalability hidde feature limitsclear documetatio', 'scalability hidde have limitsclear documetatio', 'scalability hidde lineament limitsclear documetatio', 'scalability hidde sport limitsclear documetatio', 'compared logic checkig paiful', 'compare logic checkig paiful', 'equate logic checkig paiful', 'liken logic checkig paiful', 'etwork timigtest coverage', 'cu really happy', 'work fie', 'bring fie', 'influence fie', 'mould fie', 'cheaper', 'lot issue', 'lack serviceability reliability least properly documeted', 'ustable product lot software hardware issue also scalig issue similar fretta platformhardware software ustable lot issue', 'workig implemetatio yet good device', 'everythig work expected', 'good outcome', 'satisfied strog support', 'overall customer satisfied', 'lot differeces behavior', 'wast smooth process device wet dow', 'router took log time upgrade software', 'lose project', 'overall good access', 'maybe good', 'missig feature competitio customer eeds', 'missig characteristic competitio customer eeds', 'missig feature competitio client eeds', 'missig sport competitio customer eeds', 'platform limited may way', 'platform limited may agency', 'platform limited may direction', 'platform restrict may way', 'ew feature box takig log time released', 'ew feature corner takig log time released', 'ew lineament box takig log time released', 'ew sport box takig log time released', 'recetly traffic egieerig feature icluded', 'recetly dealings egieerig feature icluded', 'recetly traffic egieerig characteristic icluded', 'recetly traffic egieerig sport icluded', 'eed platform writte', 'good fittig platformperformace', 'adept fittig platformperformace', 'skilful fittig platformperformace', 'unspoilt fittig platformperformace', 'weak multicast implemetatiovery slow limited roadmap executio', 'may bug feature', 'May bug feature', 'may intercept feature', 'may pester feature', 'good fit customer requiremets', 'good jibe customer requiremets', 'good paroxysm customer requiremets', 'skillful fit customer requiremets', 'good platform two area', 'good platform ii area', 'good platform two country', 'unspoilt platform two area', 'ustable', 'meet customer eeds', 'release delayed', 'release check', 'sack delayed', 'spillage delayed', 'serious competitor price', 'uique feature', 'missig support basic feature required customer', 'missig support basic feature require customer', 'missig support basic feature want customer', 'missig support canonic feature required customer', 'great setup', 'bully setup', 'dandy setup', 'outstanding setup', 'licesig still cofusig customer', 'documetatio still eeds workaroud', 'documetatio motionless eeds workaroud', 'documetatio soundless eeds workaroud', 'documetatio unruffled eeds workaroud', 'missig feature', 'complicates overall upgrade process', 'excellet product', 'excellet intersection', 'excellet merchandise', 'excellet production', 'perfect little iexpesive love', 'arrant little iexpesive love', 'perfect little iexpesive bed', 'perfect little iexpesive jazz', 'issue far', 'poor documetatio kill customerste customer believe whats writte', 'shift uderstadig clearly explaied documetedbetter documetatio clearer messagig', 'budge uderstadig clearly explaied documetedbetter documetatio clearer messagig', 'displacement uderstadig clearly explaied documetedbetter documetatio clearer messagig', 'shift uderstadig clearly explaied documetedbetter documetatio unclouded messagig', 'best box sell right price size form factoreed use case documetatio', 'issue budle', 'fixed form factor box good scale', 'desexualize form factor box good scale', 'fixed manikin factor box good scale', 'fixed mold factor box good scale', 'uclear documets', 'uclear documets', 'hardware slowess observed', 'hardware slowess keep', 'hardware slowess mention', 'hardware slowess respect', 'difficult troubleshoot complexity', 'lack service meu', 'lack proper exteral documetatio silet reload issue', 'hardware quality corrupt issue', 'fuctio good', 'fuctio adept', 'fuctio expert', 'fuctio honest', 'box feel differet cofigurig ted cause grief', 'missig compoet', 'missig compoet', 'missig part overall good product', 'missig part overall unspoiled product', 'missig parting overall good product', 'missig separate overall good product', 'customer start issue', 'customer begin issue', 'customer outset issue', 'customer start exit', 'eed approachable solutio', 'eed accessible solutio', 'eed approachable solutio', 'eed reachable solutio', 'sw feature missig eed better scalability', 'southwest feature missig eed better scalability', 'southwestward feature missig eed better scalability', 'sw feature missig eed intimately scalability', 'lack service meu', 'deficiency service meu', 'lack overhaul meu', 'lack serve meu', 'simple architcture', 'customer progress may issue', 'multicast profile support avaiable', 'multicast profile endure avaiable', 'multicast profile keep avaiable', 'multicast profile stand avaiable', 'may bug itroduce feature release', 'feature parity eed aliged', 'uiterestig gui', 'ui iteractive', 'totally istable egiieerig quallity dropped lot', 'lack work aroud', 'lack employment aroud', 'lack knead aroud', 'lack workplace aroud', 'platform wide deploy trigger lot escalatios'] [0, 0, 1, 0, 0, 0, 0, 0, 0, 0, 0, 0, 0, 0, 0, 0, 0, 0, 0, 1, 1, 1, 0, 0, 0, 0, 0, 0, 0, 0, 1, 1, 1, 1, 0, 1, 0, 0, 0, 0, 0, 1, 1, 1, 1, 1, 1, 1, 1, 0, 1, 1, 1, 1, 0, 0, 0, 0, 1, 1, 1, 1, 0, 0, 0, 0, 0, 0, 0, 0, 0, 0, 0, 1, 1, 1, 1, 1, 0, 1, 1, 1, 1, 1, 0, 0, 0, 0, 1, 1, 1, 1, 1, 1, 1, 0, 1, 1, 0, 1, 1, 0, 0, 0, 0, 0, 1, 0, 0, 0, 0, 0, 1, 1, 1, 1, 1, 0, 0, 0, 0, 0, 0, 0, 0, 0, 0, 0, 0, 0, 1, 0, 0, 0, 0, 0, 1, 1, 0, 0, 1, 1, 1, 1, 1, 1, 1, 1, 1, 1, 1, 1, 1, 0, 0, 0, 0, 1, 1, 1, 1, 1, 0, 0, 0, 0, 0, 1, 1, 1, 1, 1, 1, 1, 1, 1, 1, 0, 1, 0, 0, 0, 1, 1, 1, 1, 1, 1, 1, 1, 1, 1, 1, 1, 1, 1, 1, 0, 0, 0, 1, 1, 1, 1, 0, 0, 0, 0, 0, 0, 0, 0, 0, 0, 0, 0, 1, 0, 0, 0, 0, 0, 0, 0, 0, 0, 0, 1, 1, 0, 0, 0, 0, 0, 0, 0, 0, 1, 1, 1, 1, 1, 1, 1, 1, 1, 1, 1, 1, 1, 1, 1, 1, 1, 1, 1, 0, 1, 1, 1, 1, 1, 1, 0, 0, 0, 0, 0, 1, 0, 1, 1, 1, 1, 1, 1, 0, 0, 0, 1, 1, 1, 1, 0, 0, 0, 0, 0, 0, 0, 0, 0, 0, 0, 0, 0, 0, 0, 0, 0, 0, 0, 0, 0, 0, 0, 0, 1, 1, 1, 1, 1, 1, 1, 1, 1, 0, 0, 0, 0, 0, 0, 1, 1, 1, 1, 1, 1, 0, 0, 0, 0, 0, 0, 1, 1, 1, 1, 0, 0, 0, 0, 0, 0, 0, 0, 0, 1, 1, 1, 1, 0, 0, 0, 0, 1, 0, 0, 1, 1, 1, 1, 1, 1, 0, 0, 0, 0, 0, 0, 0, 0, 0, 0, 0, 0, 0, 0, 0, 0, 0, 1, 1, 1, 1, 1, 1, 1, 1, 1, 1, 1, 1, 1, 1, 0, 0, 0, 0, 0, 0, 0, 1, 0, 1, 0, 0, 0, 0, 0, 0, 0, 0, 0, 0, 0, 0, 0, 0, 0, 0, 0, 1, 0, 0, 0, 0, 1, 1, 1, 1, 1, 1, 1, 1, 1, 0, 0, 0, 0, 0, 1, 0, 0, 0, 1, 0, 0, 0, 0, 0, 0, 0, 0, 0, 0, 0, 0, 0, 0, 0, 0, 0, 0, 0, 0, 0, 0, 0, 0, 0, 0, 1, 0, 0, 0, 0, 0, 1, 0, 0, 0, 0, 0, 0, 0, 0, 0, 0, 0, 0, 0, 0, 0, 0, 0, 0, 0, 0, 0, 0, 0, 0, 0, 0, 0, 1, 1, 1, 1, 1, 1, 1, 1, 1, 1, 1, 1, 1, 1, 0, 0, 0, 0, 1, 1, 1, 0, 1, 1, 1, 1, 1, 1, 1, 1, 0, 1, 1, 1, 1, 0, 0, 0, 0, 0, 0, 0, 0, 0, 0, 0, 0, 0, 0, 0, 1, 1, 1, 1, 1, 0, 0, 0, 0, 0, 0, 0, 0, 0, 0, 1, 1, 1, 1, 0, 0, 0, 0, 1, 1, 1, 1, 1, 0, 0, 0, 0, 0, 0, 0, 0, 0, 0, 0, 0, 0, 1, 1, 1, 1, 1, 0, 1, 0, 0, 1, 1, 1, 1, 1, 1, 1, 1, 1, 1, 0, 1, 1, 0, 0, 1, 1, 1, 1, 0, 1, 0, 1, 1, 1, 1, 1, 1, 1, 1, 1, 1, 1, 1, 1, 1, 1, 1, 1, 1, 0, 0, 0, 0, 0, 0, 0, 0, 1, 0, 1, 1, 1, 1, 0, 0, 0, 0, 1, 1, 1, 1, 1, 1, 0, 0, 0, 1, 1, 0, 0, 0, 0, 0, 0, 0, 0, 1, 1, 1, 1, 1, 1, 1, 1, 1, 0, 0, 0, 0, 0, 0, 0, 0, 0, 1, 1, 1, 1, 1, 1, 1, 1, 0, 1, 1, 1, 1, 1, 1, 0, 0, 0, 0, 0, 1, 1, 1, 1, 1, 0, 0, 0, 0, 1, 0, 1, 1, 1, 1, 1, 1, 1, 1, 1, 1, 0, 0, 0, 0, 1, 1, 1, 1, 1, 1, 1, 1, 0, 0, 0, 0, 0, 0, 0, 0, 0, 0, 0, 0, 0, 0, 0, 0, 0, 0, 0, 0, 0, 0, 0, 0, 0, 0, 0, 1, 1, 1, 1, 0, 0, 0, 0, 1, 0, 0, 0, 0, 0, 0, 0, 0, 1, 0, 0, 0, 0, 0, 0]\n",
            "805\n"
          ]
        }
      ]
    },
    {
      "cell_type": "markdown",
      "source": [
        "#LSTM Model"
      ],
      "metadata": {
        "id": "cFjYDaotqQ5V"
      }
    },
    {
      "cell_type": "code",
      "execution_count": 78,
      "metadata": {
        "id": "cbULCO23fWSR",
        "colab": {
          "base_uri": "https://localhost:8080/",
          "height": 52
        },
        "outputId": "d6fd155e-2d56-46a5-d6f6-6e83b53f48b7"
      },
      "outputs": [
        {
          "output_type": "execute_result",
          "data": {
            "text/plain": [
              "'\\nSize of training set is pretty small. This can be increased using data augmentation\\nUsing synonym replacement as in here: \\nhttps://www.analyticsvidhya.com/blog/2022/02/text-data-augmentation-in-natural-language-processing-with-texattack/\\n'"
            ],
            "application/vnd.google.colaboratory.intrinsic+json": {
              "type": "string"
            }
          },
          "metadata": {},
          "execution_count": 78
        }
      ],
      "source": [
        "max_fatures = 1000\n",
        "'''\n",
        "using tokenizer from keras to convert text \n",
        "to their numeric form for embedding\n",
        "'''\n",
        "tokenizer = Tokenizer(num_words=max_fatures, split=' ')\n",
        "tokenizer.fit_on_texts(aug_data)\n",
        "X = tokenizer.texts_to_sequences(aug_data)\n",
        "X = pad_sequences(X)\n",
        "X.shape\n",
        "'''\n",
        "Size of training set is pretty small. This can be increased using data augmentation\n",
        "Using synonym replacement as in here: \n",
        "https://www.analyticsvidhya.com/blog/2022/02/text-data-augmentation-in-natural-language-processing-with-texattack/\n",
        "'''"
      ]
    },
    {
      "cell_type": "code",
      "execution_count": 79,
      "metadata": {
        "colab": {
          "base_uri": "https://localhost:8080/",
          "height": 365
        },
        "id": "iUBnhMSufWST",
        "outputId": "b463d67f-8d54-4edf-cf13-cea156fbdfa9"
      },
      "outputs": [
        {
          "output_type": "stream",
          "name": "stdout",
          "text": [
            "Model: \"sequential_2\"\n",
            "_________________________________________________________________\n",
            " Layer (type)                Output Shape              Param #   \n",
            "=================================================================\n",
            " embedding_2 (Embedding)     (None, 55, 128)           128000    \n",
            "                                                                 \n",
            " spatial_dropout1d_2 (Spatia  (None, 55, 128)          0         \n",
            " lDropout1D)                                                     \n",
            "                                                                 \n",
            " lstm_2 (LSTM)               (None, 196)               254800    \n",
            "                                                                 \n",
            " dense_2 (Dense)             (None, 2)                 394       \n",
            "                                                                 \n",
            "=================================================================\n",
            "Total params: 383,194\n",
            "Trainable params: 383,194\n",
            "Non-trainable params: 0\n",
            "_________________________________________________________________\n",
            "None\n"
          ]
        },
        {
          "output_type": "execute_result",
          "data": {
            "text/plain": [
              "'\\nUsing an LSTM model with the features as shown below\\n'"
            ],
            "application/vnd.google.colaboratory.intrinsic+json": {
              "type": "string"
            }
          },
          "metadata": {},
          "execution_count": 79
        }
      ],
      "source": [
        "embed_dim = 128\n",
        "lstm_out = 196\n",
        "\n",
        "model = Sequential()\n",
        "model.add(Embedding(max_fatures, embed_dim,input_length = X.shape[1]))\n",
        "model.add(SpatialDropout1D(0.5))\n",
        "model.add(LSTM(lstm_out, dropout=0.5, recurrent_dropout=0.5))\n",
        "model.add(Dense(2,activation='softmax'))\n",
        "model.compile(loss = 'categorical_crossentropy', optimizer='adam', metrics = ['accuracy'])\n",
        "print(model.summary())\n",
        "'''\n",
        "Using an LSTM model with the features as shown below\n",
        "'''"
      ]
    },
    {
      "cell_type": "code",
      "execution_count": 80,
      "metadata": {
        "colab": {
          "base_uri": "https://localhost:8080/"
        },
        "id": "JNvJE9_AfWSV",
        "outputId": "28df9799-6359-4fa8-80e9-156c53b2fdfe"
      },
      "outputs": [
        {
          "output_type": "stream",
          "name": "stdout",
          "text": [
            "(563, 55) (563, 2)\n",
            "(242, 55) (242, 2)\n"
          ]
        }
      ],
      "source": [
        "Y = pd.get_dummies(aug_lable).values\n",
        "X_train, X_test, Y_train, Y_test = train_test_split(X, Y, test_size = 0.3, random_state = 28)\n",
        "print(X_train.shape,Y_train.shape)\n",
        "print(X_test.shape,Y_test.shape)"
      ]
    },
    {
      "cell_type": "code",
      "execution_count": 81,
      "metadata": {
        "colab": {
          "base_uri": "https://localhost:8080/"
        },
        "id": "P2Oz_t7nfWSX",
        "outputId": "66f7abda-3eb3-4708-99d9-d6644422a6df"
      },
      "outputs": [
        {
          "output_type": "stream",
          "name": "stdout",
          "text": [
            "Epoch 1/5\n",
            "94/94 - 23s - loss: 0.6723 - accuracy: 0.5666 - val_loss: 0.6123 - val_accuracy: 0.6570 - 23s/epoch - 248ms/step\n",
            "Epoch 2/5\n",
            "94/94 - 21s - loss: 0.5075 - accuracy: 0.7762 - val_loss: 0.4024 - val_accuracy: 0.8554 - 21s/epoch - 224ms/step\n",
            "Epoch 3/5\n",
            "94/94 - 22s - loss: 0.2834 - accuracy: 0.9023 - val_loss: 0.2996 - val_accuracy: 0.8554 - 22s/epoch - 236ms/step\n",
            "Epoch 4/5\n",
            "94/94 - 22s - loss: 0.2351 - accuracy: 0.9201 - val_loss: 0.2907 - val_accuracy: 0.8678 - 22s/epoch - 230ms/step\n",
            "Epoch 5/5\n",
            "94/94 - 23s - loss: 0.1542 - accuracy: 0.9449 - val_loss: 0.2714 - val_accuracy: 0.8554 - 23s/epoch - 244ms/step\n"
          ]
        }
      ],
      "source": [
        "batch_size = 6\n",
        "es_callback = keras.callbacks.EarlyStopping(monitor='val_loss', patience=3)\n",
        "\n",
        "history = model.fit(X_train, Y_train, epochs = 5, batch_size=batch_size, verbose = 2, validation_data = (X_test,Y_test) )"
      ]
    },
    {
      "cell_type": "code",
      "source": [
        "plt.plot(history.history['loss'],label='train')\n",
        "plt.plot(history.history['val_loss'],label='test')\n",
        "plt.xlabel('Epochs')\n",
        "plt.ylabel('loss')\n",
        "plt.legend()\n",
        "plt.show()"
      ],
      "metadata": {
        "colab": {
          "base_uri": "https://localhost:8080/",
          "height": 279
        },
        "id": "_4sk66SMe3rK",
        "outputId": "097d5061-d20f-4097-fe0a-91413e045ef0"
      },
      "execution_count": 82,
      "outputs": [
        {
          "output_type": "display_data",
          "data": {
            "text/plain": [
              "<Figure size 432x288 with 1 Axes>"
            ],
            "image/png": "[encoded data removed]"
          },
          "metadata": {
            "needs_background": "light"
          }
        }
      ]
    },
    {
      "cell_type": "code",
      "execution_count": 83,
      "metadata": {
        "colab": {
          "base_uri": "https://localhost:8080/"
        },
        "id": "gN4JIQBvfWSY",
        "outputId": "a08607eb-e5d5-4ab9-9c1a-0830911712e8"
      },
      "outputs": [
        {
          "output_type": "stream",
          "name": "stdout",
          "text": [
            "8/8 - 0s - loss: 0.2714 - accuracy: 0.8554 - 301ms/epoch - 38ms/step\n"
          ]
        }
      ],
      "source": [
        "score = model.evaluate(X_test, Y_test, verbose=2)"
      ]
    },
    {
      "cell_type": "code",
      "execution_count": 84,
      "metadata": {
        "colab": {
          "base_uri": "https://localhost:8080/"
        },
        "id": "I-WGOna_fWSZ",
        "outputId": "2e445be2-afb0-422c-bcee-46a849de222f"
      },
      "outputs": [
        {
          "output_type": "stream",
          "name": "stdout",
          "text": [
            "Test Score: 0.2714103162288666\n",
            "Test Accuracy: 0.85537189245224\n"
          ]
        }
      ],
      "source": [
        "print(\"Test Score:\", score[0])\n",
        "print(\"Test Accuracy:\", score[1])"
      ]
    },
    {
      "cell_type": "code",
      "execution_count": 85,
      "metadata": {
        "colab": {
          "base_uri": "https://localhost:8080/"
        },
        "id": "Z8_6A2RAfWSa",
        "outputId": "6e84c985-ae61-4fe2-cec1-5664fc6e18dc"
      },
      "outputs": [
        {
          "output_type": "stream",
          "name": "stdout",
          "text": [
            "8/8 [==============================] - 1s 42ms/step\n"
          ]
        }
      ],
      "source": [
        "temp  = model.predict(X_test)"
      ]
    },
    {
      "cell_type": "code",
      "execution_count": 86,
      "metadata": {
        "colab": {
          "base_uri": "https://localhost:8080/"
        },
        "id": "aJLLuWYzfWSc",
        "outputId": "8d8daa35-b1bf-4082-b86c-8d0534186fc1"
      },
      "outputs": [
        {
          "output_type": "stream",
          "name": "stdout",
          "text": [
            "Epoch 1/5\n",
            "135/135 - 30s - loss: 0.1604 - accuracy: 0.9366 - 30s/epoch - 224ms/step\n",
            "Epoch 2/5\n",
            "135/135 - 31s - loss: 0.1078 - accuracy: 0.9590 - 31s/epoch - 233ms/step\n",
            "Epoch 3/5\n",
            "135/135 - 31s - loss: 0.0880 - accuracy: 0.9627 - 31s/epoch - 227ms/step\n",
            "Epoch 4/5\n",
            "135/135 - 30s - loss: 0.0867 - accuracy: 0.9677 - 30s/epoch - 222ms/step\n",
            "Epoch 5/5\n",
            "135/135 - 30s - loss: 0.0758 - accuracy: 0.9727 - 30s/epoch - 222ms/step\n"
          ]
        },
        {
          "output_type": "execute_result",
          "data": {
            "text/plain": [
              "<keras.callbacks.History at 0x7f4dc6c08790>"
            ]
          },
          "metadata": {},
          "execution_count": 86
        }
      ],
      "source": [
        "model.fit(X, Y, epochs = 5, batch_size=batch_size, verbose = 2)"
      ]
    },
    {
      "cell_type": "markdown",
      "source": [
        "# Predicting rating and  collecting negative feedback"
      ],
      "metadata": {
        "id": "_QJSeC66suQ6"
      }
    },
    {
      "cell_type": "code",
      "execution_count": 87,
      "metadata": {
        "id": "JgmuXtg4fWSc"
      },
      "outputs": [],
      "source": [
        "def get(a):\n",
        "    twt = [a]\n",
        "    twt = tokenizer.texts_to_sequences(twt)\n",
        "    twt = pad_sequences(twt, maxlen=28, dtype='int32', value=0)\n",
        "    sentiment = model.predict(twt, batch_size=1, verbose=0)[0]\n",
        "    return sentiment"
      ]
    },
    {
      "cell_type": "code",
      "execution_count": 88,
      "metadata": {
        "id": "99ZodS5ffWSf",
        "colab": {
          "base_uri": "https://localhost:8080/",
          "height": 90
        },
        "outputId": "3d65f4eb-2368-462a-8966-6a7e5d7661e0"
      },
      "outputs": [
        {
          "output_type": "stream",
          "name": "stderr",
          "text": [
            "<ipython-input-88-38010c5997a1>:26: FutureWarning: Passing a negative integer is deprecated in version 1.0 and will not be supported in future version. Instead, use None to not limit the column width.\n",
            "  pd.set_option('display.max_colwidth', -1)\n"
          ]
        },
        {
          "output_type": "execute_result",
          "data": {
            "text/plain": [
              "'\\nlisted below is the aggregate negative comments for all the job roles\\n\\n'"
            ],
            "application/vnd.google.colaboratory.intrinsic+json": {
              "type": "string"
            }
          },
          "metadata": {},
          "execution_count": 88
        }
      ],
      "source": [
        "test['Sentiment (1=Positive & 0= Negative)'] = test['Verbatim Feedback '].map(get)\n",
        "test['positives'] = list(x[1] for x in test['Sentiment (1=Positive & 0= Negative)'])\n",
        "jobRoles=test['Job Role'].value_counts()\n",
        "jobRoles = list(jobRoles.index)\n",
        "groups = test.groupby(['Job Role'])\n",
        "val = groups.get_group(jobRoles[0])\n",
        "negComments = list(val['Verbatim Feedback '][x] for x in val.index if np.argmax(val['Sentiment (1=Positive & 0= Negative)'][x]) == 0)\n",
        "\n",
        "\n",
        "\n",
        "jobDict = {}\n",
        "for role in jobRoles:\n",
        "    val = groups.get_group(role)\n",
        "    totalPositives = list(val['positives'][x] for x in val.index)\n",
        "    negComments = list(val['Verbatim Feedback '][x] for x in val.index if np.argmax(val['Sentiment (1=Positive & 0= Negative)'][x]) == 0)\n",
        "    score = sum(totalPositives)/len(totalPositives)\n",
        "    jobDict[role] =  (round(score*10),negComments)\n",
        "\n",
        "\n",
        "soln = pd.DataFrame()\n",
        "soln['Job Role'] = jobRoles\n",
        "soln['Rating'] = list(jobDict[x][0] for x in jobRoles)\n",
        "soln['Negative Feedback'] = list(jobDict[x][1] for x in jobRoles)\n",
        "\n",
        "\n",
        "pd.set_option('display.max_colwidth', -1)\n",
        "pd.set_option('display.width', None)\n",
        "\n",
        "\n",
        "soln.head(3)\n",
        "'''\n",
        "listed below is the aggregate negative comments for all the job roles\n",
        "\n",
        "'''"
      ]
    },
    {
      "cell_type": "markdown",
      "source": [
        "# Preprocessing functions"
      ],
      "metadata": {
        "id": "UO9d8zRct47s"
      }
    },
    {
      "cell_type": "code",
      "source": [
        "!pip -q install language-tool-python  "
      ],
      "metadata": {
        "id": "j7ITvooOuGVu"
      },
      "execution_count": 89,
      "outputs": []
    },
    {
      "cell_type": "code",
      "source": [
        "def sentenceCase(sentences):\n",
        "    words=sentences.split(\". \")\n",
        "    new=\".\".join([word.capitalize() for word in words])\n",
        "    return new"
      ],
      "metadata": {
        "id": "uzRmyR5vt4TE"
      },
      "execution_count": 90,
      "outputs": []
    },
    {
      "cell_type": "code",
      "source": [
        "import string\n",
        "import re\n",
        "import nltk\n",
        "from nltk.stem import PorterStemmer\n",
        "from nltk.stem import WordNetLemmatizer\n",
        "\n",
        "import language_tool_python    \n",
        "my_tool = language_tool_python.LanguageTool('en-US')  \n",
        "\n",
        "def clean_string(text, stem=\"None\"):\n",
        "\n",
        "    final_string = \"\"\n",
        "\n",
        "    # Remove line breaks\n",
        "    text = re.sub(r'\\n', '', text)\n",
        "\n",
        "    # Remove puncuation\n",
        "    translator = str.maketrans('', '', string.punctuation)\n",
        "    text = text.translate(translator)\n",
        "    text = text.strip()\n",
        "    return text"
      ],
      "metadata": {
        "id": "5H8rtdRfuIze"
      },
      "execution_count": 91,
      "outputs": []
    },
    {
      "cell_type": "markdown",
      "source": [
        "# Text summarization using DistilBART\n"
      ],
      "metadata": {
        "id": "vIsPQXoutBbC"
      }
    },
    {
      "cell_type": "code",
      "source": [
        "!pip -q install sentencepiece\n",
        "!pip -q install transformers\n",
        "!pip -q install torch"
      ],
      "metadata": {
        "id": "rV9u-I3jsrEI"
      },
      "execution_count": 92,
      "outputs": []
    },
    {
      "cell_type": "code",
      "execution_count": 93,
      "metadata": {
        "id": "iloVKuzPfWSs"
      },
      "outputs": [],
      "source": [
        "text = soln['Negative Feedback'][1]"
      ]
    },
    {
      "cell_type": "code",
      "source": [
        "# input list of strings , output text\n",
        "def getText(a):\n",
        "  text = \"\"\n",
        "  for word in a:\n",
        "    text += my_tool.correct(clean_string(word).capitalize())\n",
        "    if(text[-1]==' '):\n",
        "      text = text[:-1]\n",
        "    text += \". \"\n",
        "  return text"
      ],
      "metadata": {
        "id": "oda2Dqe4AwZF"
      },
      "execution_count": 94,
      "outputs": []
    },
    {
      "cell_type": "code",
      "execution_count": 95,
      "metadata": {
        "id": "kocJAqL-fWSw"
      },
      "outputs": [],
      "source": [
        "Soln = soln.drop(['Negative Feedback'],axis = 1)"
      ]
    },
    {
      "cell_type": "code",
      "execution_count": 96,
      "metadata": {
        "id": "nddJq2bdfWS0",
        "colab": {
          "base_uri": "https://localhost:8080/"
        },
        "outputId": "e655be96-21ca-45a3-8fcc-ad6e2d8aa42d"
      },
      "outputs": [
        {
          "output_type": "stream",
          "name": "stderr",
          "text": [
            "No model was supplied, defaulted to sshleifer/distilbart-cnn-12-6 and revision a4f8f3e (https://huggingface.co/sshleifer/distilbart-cnn-12-6).\n",
            "Using a pipeline without specifying a model name and revision in production is not recommended.\n"
          ]
        }
      ],
      "source": [
        "from transformers import pipeline\n",
        "summarizer = pipeline(\"summarization\")"
      ]
    },
    {
      "cell_type": "code",
      "execution_count": 97,
      "metadata": {
        "id": "3lsthiEEfWS0"
      },
      "outputs": [],
      "source": [
        "Summary2 = []\n",
        "for x in soln['Negative Feedback']:\n",
        "    if x == []:\n",
        "        Summary2.append(\"-\")\n",
        "        continue\n",
        "    # text = x\n",
        "    preprocess_text = getText(x)\n",
        "    # preprocess_text = \". \".join([(str(item)) if str(item)[-1] != '.' else (str(item))[:-1] for item in text])\n",
        "    if len(preprocess_text.split()) >= 30:\n",
        "        summarized = summarizer(preprocess_text, min_length=10, max_length=30)\n",
        "        Summary2.append(summarized[0]['summary_text'])\n",
        "    else:\n",
        "        Summary2.append(preprocess_text)"
      ]
    },
    {
      "cell_type": "code",
      "execution_count": 98,
      "metadata": {
        "id": "2d35dMW4fWS1"
      },
      "outputs": [],
      "source": [
        "Soln['Summary from BART Model'] = Summary2"
      ]
    },
    {
      "cell_type": "code",
      "source": [
        "Soln"
      ],
      "metadata": {
        "colab": {
          "base_uri": "https://localhost:8080/",
          "height": 908
        },
        "id": "VU4SVF0zzrCP",
        "outputId": "d380f14b-3193-4e95-ceeb-0958273bc93a"
      },
      "execution_count": 99,
      "outputs": [
        {
          "output_type": "execute_result",
          "data": {
            "text/plain": [
              "                              Job Role  Rating  \\\n",
              "0   Architect                           3        \n",
              "1   Engineer                            4        \n",
              "2   Support                             6        \n",
              "3   XYZ                                 7        \n",
              "4   Manager                             2        \n",
              "5   Systems Engineer                    7        \n",
              "6   Sales Specialist                    7        \n",
              "7   PQR                                 4        \n",
              "8   Operations                          6        \n",
              "9   Solutions                           7        \n",
              "10  Engineer - Consultant [C]           7        \n",
              "11  PrincipalabcArchitect               9        \n",
              "12  Leader, Regionalabc                 9        \n",
              "13  Leader, Customer Executive          0        \n",
              "14  High Touch Operations Manager       4        \n",
              "15  Sales Business Development Manager  10       \n",
              "16  Leader, Client Executive            8        \n",
              "17  Business SolutionsArchitect         10       \n",
              "18  SecurityCustomer Success Executive  3        \n",
              "19  CXO                                 5        \n",
              "20  Customer Service & Support [C]      0        \n",
              "\n",
              "                                                                                                                                                                                                         Summary from BART Model  \n",
              "0    Feature gap gap complete documentation complete documentation . Lack feature. Support important overworking. Lack basic feature lot bug. Aim feature parity. Lack                                                            \n",
              "1    May glitch bug critical bug lead service outage . Hard get support eve get. Improvement software from improvement required . May bug. May bug .                                                                              \n",
              "2   Poor drop accounting troubleshooting capability support pretty much guess work clue. Frequent occurrence work due defective hardware. Product big change make customer embrace deploy.                                        \n",
              "3   Always wondering every problem hit defect CORIG issue supported. Security several issues.                                                                                                                                     \n",
              "4   Several issues. Lack service. Dissatisfaction due lack debugability sup portability limit seeds drastically improved including documentation. Hit bug. Release delay. Sufficient troubleshooting capability serviceability.   \n",
              "5   EED improvement. Feature outlaid properly. This license complicated.                                                                                                                                                          \n",
              "6   This look improved. Critical feature certain multicasting. Limited performance slow feature supportperformace EED improve match requirement EW market position.                                                               \n",
              "7   Software quality issue caused network outage escalation. Timing support. Low product quality.                                                                                                                                 \n",
              "8   SW quality cover. May bug.                                                                                                                                                                                                    \n",
              "9   Improvement. Lack scalability.                                                                                                                                                                                                \n",
              "10  Poor qualityeverythig.                                                                                                                                                                                                        \n",
              "11  -                                                                                                                                                                                                                             \n",
              "12  -                                                                                                                                                                                                                             \n",
              "13  Poor product quality too may software failure. Lack update.                                                                                                                                                                   \n",
              "14  OE customer minimum defect.                                                                                                                                                                                                   \n",
              "15  -                                                                                                                                                                                                                             \n",
              "16  -                                                                                                                                                                                                                             \n",
              "17  -                                                                                                                                                                                                                             \n",
              "18  SW quality cover.                                                                                                                                                                                                             \n",
              "19  -                                                                                                                                                                                                                             \n",
              "20  May failure.                                                                                                                                                                                                                  "
            ],
            "text/html": [
              "\n",
              "  <div id=\"df-bb046f2a-9467-4bd0-bcfb-6050f0c822fd\">\n",
              "    <div class=\"colab-df-container\">\n",
              "      <div>\n",
              "<style scoped>\n",
              "    .dataframe tbody tr th:only-of-type {\n",
              "        vertical-align: middle;\n",
              "    }\n",
              "\n",
              "    .dataframe tbody tr th {\n",
              "        vertical-align: top;\n",
              "    }\n",
              "\n",
              "    .dataframe thead th {\n",
              "        text-align: right;\n",
              "    }\n",
              "</style>\n",
              "<table border=\"1\" class=\"dataframe\">\n",
              "  <thead>\n",
              "    <tr style=\"text-align: right;\">\n",
              "      <th></th>\n",
              "      <th>Job Role</th>\n",
              "      <th>Rating</th>\n",
              "      <th>Summary from BART Model</th>\n",
              "    </tr>\n",
              "  </thead>\n",
              "  <tbody>\n",
              "    <tr>\n",
              "      <th>0</th>\n",
              "      <td>Architect</td>\n",
              "      <td>3</td>\n",
              "      <td>Feature gap gap complete documentation complete documentation . Lack feature. Support important overworking. Lack basic feature lot bug. Aim feature parity. Lack</td>\n",
              "    </tr>\n",
              "    <tr>\n",
              "      <th>1</th>\n",
              "      <td>Engineer</td>\n",
              "      <td>4</td>\n",
              "      <td>May glitch bug critical bug lead service outage . Hard get support eve get. Improvement software from improvement required . May bug. May bug .</td>\n",
              "    </tr>\n",
              "    <tr>\n",
              "      <th>2</th>\n",
              "      <td>Support</td>\n",
              "      <td>6</td>\n",
              "      <td>Poor drop accounting troubleshooting capability support pretty much guess work clue. Frequent occurrence work due defective hardware. Product big change make customer embrace deploy.</td>\n",
              "    </tr>\n",
              "    <tr>\n",
              "      <th>3</th>\n",
              "      <td>XYZ</td>\n",
              "      <td>7</td>\n",
              "      <td>Always wondering every problem hit defect CORIG issue supported. Security several issues.</td>\n",
              "    </tr>\n",
              "    <tr>\n",
              "      <th>4</th>\n",
              "      <td>Manager</td>\n",
              "      <td>2</td>\n",
              "      <td>Several issues. Lack service. Dissatisfaction due lack debugability sup portability limit seeds drastically improved including documentation. Hit bug. Release delay. Sufficient troubleshooting capability serviceability.</td>\n",
              "    </tr>\n",
              "    <tr>\n",
              "      <th>5</th>\n",
              "      <td>Systems Engineer</td>\n",
              "      <td>7</td>\n",
              "      <td>EED improvement. Feature outlaid properly. This license complicated.</td>\n",
              "    </tr>\n",
              "    <tr>\n",
              "      <th>6</th>\n",
              "      <td>Sales Specialist</td>\n",
              "      <td>7</td>\n",
              "      <td>This look improved. Critical feature certain multicasting. Limited performance slow feature supportperformace EED improve match requirement EW market position.</td>\n",
              "    </tr>\n",
              "    <tr>\n",
              "      <th>7</th>\n",
              "      <td>PQR</td>\n",
              "      <td>4</td>\n",
              "      <td>Software quality issue caused network outage escalation. Timing support. Low product quality.</td>\n",
              "    </tr>\n",
              "    <tr>\n",
              "      <th>8</th>\n",
              "      <td>Operations</td>\n",
              "      <td>6</td>\n",
              "      <td>SW quality cover. May bug.</td>\n",
              "    </tr>\n",
              "    <tr>\n",
              "      <th>9</th>\n",
              "      <td>Solutions</td>\n",
              "      <td>7</td>\n",
              "      <td>Improvement. Lack scalability.</td>\n",
              "    </tr>\n",
              "    <tr>\n",
              "      <th>10</th>\n",
              "      <td>Engineer - Consultant [C]</td>\n",
              "      <td>7</td>\n",
              "      <td>Poor qualityeverythig.</td>\n",
              "    </tr>\n",
              "    <tr>\n",
              "      <th>11</th>\n",
              "      <td>PrincipalabcArchitect</td>\n",
              "      <td>9</td>\n",
              "      <td>-</td>\n",
              "    </tr>\n",
              "    <tr>\n",
              "      <th>12</th>\n",
              "      <td>Leader, Regionalabc</td>\n",
              "      <td>9</td>\n",
              "      <td>-</td>\n",
              "    </tr>\n",
              "    <tr>\n",
              "      <th>13</th>\n",
              "      <td>Leader, Customer Executive</td>\n",
              "      <td>0</td>\n",
              "      <td>Poor product quality too may software failure. Lack update.</td>\n",
              "    </tr>\n",
              "    <tr>\n",
              "      <th>14</th>\n",
              "      <td>High Touch Operations Manager</td>\n",
              "      <td>4</td>\n",
              "      <td>OE customer minimum defect.</td>\n",
              "    </tr>\n",
              "    <tr>\n",
              "      <th>15</th>\n",
              "      <td>Sales Business Development Manager</td>\n",
              "      <td>10</td>\n",
              "      <td>-</td>\n",
              "    </tr>\n",
              "    <tr>\n",
              "      <th>16</th>\n",
              "      <td>Leader, Client Executive</td>\n",
              "      <td>8</td>\n",
              "      <td>-</td>\n",
              "    </tr>\n",
              "    <tr>\n",
              "      <th>17</th>\n",
              "      <td>Business SolutionsArchitect</td>\n",
              "      <td>10</td>\n",
              "      <td>-</td>\n",
              "    </tr>\n",
              "    <tr>\n",
              "      <th>18</th>\n",
              "      <td>SecurityCustomer Success Executive</td>\n",
              "      <td>3</td>\n",
              "      <td>SW quality cover.</td>\n",
              "    </tr>\n",
              "    <tr>\n",
              "      <th>19</th>\n",
              "      <td>CXO</td>\n",
              "      <td>5</td>\n",
              "      <td>-</td>\n",
              "    </tr>\n",
              "    <tr>\n",
              "      <th>20</th>\n",
              "      <td>Customer Service &amp; Support [C]</td>\n",
              "      <td>0</td>\n",
              "      <td>May failure.</td>\n",
              "    </tr>\n",
              "  </tbody>\n",
              "</table>\n",
              "</div>\n",
              "      <button class=\"colab-df-convert\" onclick=\"convertToInteractive('df-bb046f2a-9467-4bd0-bcfb-6050f0c822fd')\"\n",
              "              title=\"Convert this dataframe to an interactive table.\"\n",
              "              style=\"display:none;\">\n",
              "        \n",
              "  <svg xmlns=\"http://www.w3.org/2000/svg\" height=\"24px\"viewBox=\"0 0 24 24\"\n",
              "       width=\"24px\">\n",
              "    <path d=\"M0 0h24v24H0V0z\" fill=\"none\"/>\n",
              "    <path d=\"M18.56 5.44l.94 2.06.94-2.06 2.06-.94-2.06-.94-.94-2.06-.94 2.06-2.06.94zm-11 1L8.5 8.5l.94-2.06 2.06-.94-2.06-.94L8.5 2.5l-.94 2.06-2.06.94zm10 10l.94 2.06.94-2.06 2.06-.94-2.06-.94-.94-2.06-.94 2.06-2.06.94z\"/><path d=\"M17.41 7.96l-1.37-1.37c-.4-.4-.92-.59-1.43-.59-.52 0-1.04.2-1.43.59L10.3 9.45l-7.72 7.72c-.78.78-.78 2.05 0 2.83L4 21.41c.39.39.9.59 1.41.59.51 0 1.02-.2 1.41-.59l7.78-7.78 2.81-2.81c.8-.78.8-2.07 0-2.86zM5.41 20L4 18.59l7.72-7.72 1.47 1.35L5.41 20z\"/>\n",
              "  </svg>\n",
              "      </button>\n",
              "      \n",
              "  <style>\n",
              "    .colab-df-container {\n",
              "      display:flex;\n",
              "      flex-wrap:wrap;\n",
              "      gap: 12px;\n",
              "    }\n",
              "\n",
              "    .colab-df-convert {\n",
              "      background-color: #E8F0FE;\n",
              "      border: none;\n",
              "      border-radius: 50%;\n",
              "      cursor: pointer;\n",
              "      display: none;\n",
              "      fill: #1967D2;\n",
              "      height: 32px;\n",
              "      padding: 0 0 0 0;\n",
              "      width: 32px;\n",
              "    }\n",
              "\n",
              "    .colab-df-convert:hover {\n",
              "      background-color: #E2EBFA;\n",
              "      box-shadow: 0px 1px 2px rgba(60, 64, 67, 0.3), 0px 1px 3px 1px rgba(60, 64, 67, 0.15);\n",
              "      fill: #174EA6;\n",
              "    }\n",
              "\n",
              "    [theme=dark] .colab-df-convert {\n",
              "      background-color: #3B4455;\n",
              "      fill: #D2E3FC;\n",
              "    }\n",
              "\n",
              "    [theme=dark] .colab-df-convert:hover {\n",
              "      background-color: #434B5C;\n",
              "      box-shadow: 0px 1px 3px 1px rgba(0, 0, 0, 0.15);\n",
              "      filter: drop-shadow(0px 1px 2px rgba(0, 0, 0, 0.3));\n",
              "      fill: #FFFFFF;\n",
              "    }\n",
              "  </style>\n",
              "\n",
              "      <script>\n",
              "        const buttonEl =\n",
              "          document.querySelector('#df-bb046f2a-9467-4bd0-bcfb-6050f0c822fd button.colab-df-convert');\n",
              "        buttonEl.style.display =\n",
              "          google.colab.kernel.accessAllowed ? 'block' : 'none';\n",
              "\n",
              "        async function convertToInteractive(key) {\n",
              "          const element = document.querySelector('#df-bb046f2a-9467-4bd0-bcfb-6050f0c822fd');\n",
              "          const dataTable =\n",
              "            await google.colab.kernel.invokeFunction('convertToInteractive',\n",
              "                                                     [key], {});\n",
              "          if (!dataTable) return;\n",
              "\n",
              "          const docLinkHtml = 'Like what you see? Visit the ' +\n",
              "            '<a target=\"_blank\" href=https://colab.research.google.com/notebooks/data_table.ipynb>data table notebook</a>'\n",
              "            + ' to learn more about interactive tables.';\n",
              "          element.innerHTML = '';\n",
              "          dataTable['output_type'] = 'display_data';\n",
              "          await google.colab.output.renderOutput(dataTable, element);\n",
              "          const docLink = document.createElement('div');\n",
              "          docLink.innerHTML = docLinkHtml;\n",
              "          element.appendChild(docLink);\n",
              "        }\n",
              "      </script>\n",
              "    </div>\n",
              "  </div>\n",
              "  "
            ]
          },
          "metadata": {},
          "execution_count": 99
        }
      ]
    },
    {
      "cell_type": "code",
      "source": [],
      "metadata": {
        "id": "nWnN0yMpBPqb"
      },
      "execution_count": 99,
      "outputs": []
    },
    {
      "cell_type": "code",
      "source": [],
      "metadata": {
        "id": "HAcapQk5BPs2"
      },
      "execution_count": null,
      "outputs": []
    },
    {
      "cell_type": "code",
      "source": [],
      "metadata": {
        "id": "CSeMbolyBPvW"
      },
      "execution_count": null,
      "outputs": []
    },
    {
      "cell_type": "code",
      "source": [],
      "metadata": {
        "id": "hEUI86RQBPxv"
      },
      "execution_count": null,
      "outputs": []
    },
    {
      "cell_type": "code",
      "source": [],
      "metadata": {
        "id": "ZiHA_qH7BP2s"
      },
      "execution_count": null,
      "outputs": []
    },
    {
      "cell_type": "code",
      "source": [],
      "metadata": {
        "id": "zXv-sHYtBP5F"
      },
      "execution_count": null,
      "outputs": []
    },
    {
      "cell_type": "code",
      "source": [],
      "metadata": {
        "id": "SnA0mC-QBP7o"
      },
      "execution_count": null,
      "outputs": []
    },
    {
      "cell_type": "code",
      "source": [],
      "metadata": {
        "id": "BwAMW7n4BP-Q"
      },
      "execution_count": null,
      "outputs": []
    },
    {
      "cell_type": "code",
      "source": [],
      "metadata": {
        "id": "t50imRvUBQAZ"
      },
      "execution_count": null,
      "outputs": []
    },
    {
      "cell_type": "code",
      "source": [],
      "metadata": {
        "id": "AHSNbNSgBQC8"
      },
      "execution_count": null,
      "outputs": []
    },
    {
      "cell_type": "code",
      "source": [
        "# get('This is good')\n",
        "\n",
        "\n",
        "# def get(a):\n",
        "#     twt = [a]\n",
        "#     # vectorizing the tweet by the pre-fitted tokenizer instance\n",
        "#     twt = tokenizer.texts_to_sequences(twt)\n",
        "#     # padding the tweet to have exactly the same shape as `embedding_2` input\n",
        "#     twt = pad_sequences(twt, maxlen=28, dtype='int32', value=0)\n",
        "#     # print(twt)\n",
        "#     sentiment = model.predict(twt, batch_size=1, verbose=0)[0]\n",
        "#     return sentiment\n",
        "\n",
        "\n",
        "# pd.set_option('display.max_rows', None)\n",
        "# pd.set_option('display.max_columns', None)\n",
        "# pd.set_option('display.width', None)\n",
        "# pd.set_option('display.max_colwidth', -1)\n",
        " \n",
        "# All dataframes hereafter reflect these changes.\n",
        "# display(df)\n",
        "\n",
        "\n",
        "# test['positives'] = list(x[1] for x in test['Sentiment (1=Positive & 0= Negative)'])\n",
        "\n",
        "# Summary2\n",
        "\n",
        "# Soln.rename(columns = {'Summary for negative comments': 'Using t5'})"
      ],
      "metadata": {
        "id": "DHvGgTWJqz67"
      },
      "execution_count": null,
      "outputs": []
    },
    {
      "cell_type": "code",
      "execution_count": null,
      "metadata": {
        "id": "XxopscpIfWSs"
      },
      "outputs": [],
      "source": [
        "# preprocess_text = \". \".join([(str(item)) if str(item)[-1] != '.' else (str(item))[:-1] for item in text])\n",
        "\n",
        "# preprocess_text\n",
        "# t5_prepared_Text = \"summarize: \"+ preprocess_text\n",
        "# tokenized_text = tokenizer.encode(t5_prepared_Text, return_tensors=\"pt\").to(device)\n",
        "# tokenized_text\n",
        "# summary_ids = model.generate(tokenized_text,\n",
        "#                                     num_beams=4,\n",
        "#                                     no_repeat_ngram_size=2,\n",
        "#                                     min_length=10,\n",
        "#                                     max_length=40,\n",
        "#                                     early_stopping=True)\n",
        "# output = tokenizer.decode(summary_ids[0], skip_special_tokens=True)\n",
        "# sentenceCase(output)"
      ]
    },
    {
      "cell_type": "code",
      "execution_count": null,
      "metadata": {
        "id": "D9mxhTqOfWSv"
      },
      "outputs": [],
      "source": [
        "# Summary = []\n",
        "# for x in soln['Negative Feedback']:\n",
        "#     if x == []:\n",
        "#         Summary.append(\"-\")\n",
        "#         continue\n",
        "#     text = x\n",
        "#     preprocess_text = \". \".join([(str(item)) if str(item)[-1] != '.' else (str(item))[:-1] for item in text])\n",
        "#     t5_prepared_Text = \"summarize: \"+preprocess_text\n",
        "#     tokenized_text = tokenizer.encode(t5_prepared_Text, return_tensors=\"pt\").to(device)\n",
        "#     summary_ids = model.generate(tokenized_text,\n",
        "#                                     num_beams=4,\n",
        "#                                     no_repeat_ngram_size=2,\n",
        "#                                     min_length=10,\n",
        "#                                     max_length=30,\n",
        "#                                     early_stopping=True)\n",
        "    \n",
        "#     output = tokenizer.decode(summary_ids[0], skip_special_tokens=True)\n",
        "#     Summary.append(sentenceCase(output))"
      ]
    },
    {
      "cell_type": "code",
      "execution_count": null,
      "metadata": {
        "id": "ibzfUfNDucpY"
      },
      "outputs": [],
      "source": [
        "# Bert\n",
        "# !pip install bert-extractive-summarizer"
      ]
    },
    {
      "cell_type": "code",
      "execution_count": null,
      "metadata": {
        "id": "72oY96yRxFK7"
      },
      "outputs": [],
      "source": [
        "# soln['Using BERT'] = soln['Negative Feedback'].map(getTextForBert)\n",
        "# soln"
      ]
    },
    {
      "cell_type": "code",
      "source": [
        "# from transformers import PegasusForConditionalGeneration\n",
        "# from transformers import PegasusTokenizer\n",
        "# from transformers import pipeline"
      ],
      "metadata": {
        "id": "o1EsrkP83rIf"
      },
      "execution_count": null,
      "outputs": []
    },
    {
      "cell_type": "code",
      "execution_count": null,
      "metadata": {
        "id": "N2djyDvGfWSx"
      },
      "outputs": [],
      "source": [
        "# from summarizer import Summarizer,TransformerSummarizer\n",
        "\n",
        "# bert_model = Summarizer()\n",
        "\n",
        "# def getTextForBert(a):\n",
        "#     sentence = getText(a)\n",
        "#     bert_summary = ''.join(bert_model(sentence))\n",
        "#     return bert_summary"
      ]
    },
    {
      "cell_type": "code",
      "execution_count": null,
      "metadata": {
        "id": "esb_9AIIfWSy"
      },
      "outputs": [],
      "source": [
        "# text = soln['Negative Feedback'][8]\n",
        "# # preprocess_text = \". \".join([(str(item)) if str(item)[-1] != '.' else (str(item))[:-1] for item in text])\n",
        "# preprocess_text = \". \".join([ my_tool.correct(clean_string(item).capitalize()) for item in text])\n",
        "# print(len(preprocess_text.split()))\n",
        "# print(preprocess_text)"
      ]
    },
    {
      "cell_type": "code",
      "execution_count": null,
      "metadata": {
        "id": "Y_fI_0RyfWSq"
      },
      "outputs": [],
      "source": [
        "# import torch\n",
        "# import json \n",
        "# from transformers import T5Tokenizer, T5ForConditionalGeneration, T5Config"
      ]
    },
    {
      "cell_type": "code",
      "execution_count": null,
      "metadata": {
        "id": "LBqGy2A0fWSr"
      },
      "outputs": [],
      "source": [
        "# model = T5ForConditionalGeneration.from_pretrained('t5-small')\n",
        "# tokenizer = T5Tokenizer.from_pretrained('t5-small')\n",
        "# device = torch.device('cpu')"
      ]
    },
    {
      "cell_type": "code",
      "source": [
        "# embed_dim = 128 #New\n",
        "# lstm_out = 196 #New\n",
        "\n",
        "# model = Sequential()\n",
        "# model.add(Embedding(max_fatures, embed_dim,input_length = X.shape[1]))\n",
        "# model.add(SpatialDropout1D(0.4))\n",
        "# model.add(Dropout(0.5)) #New\n",
        "# model.add(LSTM(lstm_out, dropout=0.4, recurrent_dropout=0.4))\n",
        "# model.add(Dense(50, activation=\"sigmoid\")) #New\n",
        "# model.add(Dropout(0.5)) #New\n",
        "# model.add(Dense(2,activation='softmax'))\n",
        "# model.compile(loss = 'categorical_crossentropy', optimizer='adam',metrics = ['accuracy'])\n",
        "# #model.compile(loss = 'binary_crossentropy', optimizer='adam',metrics = ['accuracy'])\n",
        "# print(model.summary())"
      ],
      "metadata": {
        "id": "ojXQzptn74Do"
      },
      "execution_count": null,
      "outputs": []
    }
  ],
  "metadata": {
    "colab": {
      "provenance": []
    },
    "kernelspec": {
      "display_name": "Python 3",
      "language": "python",
      "name": "python3"
    },
    "language_info": {
      "codemirror_mode": {
        "name": "ipython",
        "version": 3
      },
      "file_extension": ".py",
      "mimetype": "text/x-python",
      "name": "python",
      "nbconvert_exporter": "python",
      "pygments_lexer": "ipython3",
      "version": "3.7.12"
    },
    "vscode": {
      "interpreter": {
        "hash": "916dbcbb3f70747c44a77c7bcd40155683ae19c65e1c03b4aa3499c5328201f1"
      }
    }
  },
  "nbformat": 4,
  "nbformat_minor": 0
}